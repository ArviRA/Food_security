{
 "cells": [
  {
   "cell_type": "code",
   "execution_count": 2,
   "metadata": {},
   "outputs": [],
   "source": [
    "import pandas as pd\n",
    "import numpy as np\n",
    "from sklearn.preprocessing import StandardScaler\n",
    "from sklearn.model_selection import train_test_split\n",
    "from sklearn.neighbors import KNeighborsClassifier \n",
    "from sklearn.ensemble import RandomForestClassifier\n",
    "from sklearn.model_selection import RepeatedStratifiedKFold\n",
    "from sklearn.datasets import make_classification\n",
    "from sklearn.ensemble import GradientBoostingClassifier\n",
    "from sklearn.model_selection import cross_val_score\n",
    "from sklearn import metrics\n",
    "import seaborn as sns \n",
    "import matplotlib.pyplot as plt  "
   ]
  },
  {
   "cell_type": "code",
   "execution_count": 7,
   "metadata": {},
   "outputs": [
    {
     "data": {
      "text/html": [
       "<div>\n",
       "<style scoped>\n",
       "    .dataframe tbody tr th:only-of-type {\n",
       "        vertical-align: middle;\n",
       "    }\n",
       "\n",
       "    .dataframe tbody tr th {\n",
       "        vertical-align: top;\n",
       "    }\n",
       "\n",
       "    .dataframe thead th {\n",
       "        text-align: right;\n",
       "    }\n",
       "</style>\n",
       "<table border=\"1\" class=\"dataframe\">\n",
       "  <thead>\n",
       "    <tr style=\"text-align: right;\">\n",
       "      <th></th>\n",
       "      <th>Unnamed: 0</th>\n",
       "      <th>Districts</th>\n",
       "      <th>Marginal</th>\n",
       "      <th>Small farms</th>\n",
       "      <th>Semi-Medium farms</th>\n",
       "      <th>Medium farms</th>\n",
       "      <th>Large</th>\n",
       "      <th>crop_intensity</th>\n",
       "      <th>Literacy Rate</th>\n",
       "      <th>capacity_warehouse</th>\n",
       "      <th>occupancy_warehouse</th>\n",
       "      <th>vacancy_warehouse</th>\n",
       "      <th>NonWork-%</th>\n",
       "      <th>State Highways</th>\n",
       "      <th>Major District Roads</th>\n",
       "      <th>Rural Roads</th>\n",
       "      <th>crop_diversity</th>\n",
       "    </tr>\n",
       "  </thead>\n",
       "  <tbody>\n",
       "    <tr>\n",
       "      <th>0</th>\n",
       "      <td>0</td>\n",
       "      <td>ADILABAD</td>\n",
       "      <td>38320.0</td>\n",
       "      <td>44643.0</td>\n",
       "      <td>31113.0</td>\n",
       "      <td>7611.0</td>\n",
       "      <td>535.0</td>\n",
       "      <td>1.05</td>\n",
       "      <td>63.440</td>\n",
       "      <td>76665.0</td>\n",
       "      <td>19591.80</td>\n",
       "      <td>57073.20</td>\n",
       "      <td>50.756729</td>\n",
       "      <td>80</td>\n",
       "      <td>123</td>\n",
       "      <td>301</td>\n",
       "      <td>26.0</td>\n",
       "    </tr>\n",
       "    <tr>\n",
       "      <th>1</th>\n",
       "      <td>1</td>\n",
       "      <td>BHADRADRI</td>\n",
       "      <td>75738.0</td>\n",
       "      <td>32202.0</td>\n",
       "      <td>19815.0</td>\n",
       "      <td>4750.0</td>\n",
       "      <td>573.0</td>\n",
       "      <td>1.15</td>\n",
       "      <td>66.445</td>\n",
       "      <td>66050.0</td>\n",
       "      <td>53851.99</td>\n",
       "      <td>12198.01</td>\n",
       "      <td>51.638468</td>\n",
       "      <td>104</td>\n",
       "      <td>410</td>\n",
       "      <td>420</td>\n",
       "      <td>15.0</td>\n",
       "    </tr>\n",
       "    <tr>\n",
       "      <th>2</th>\n",
       "      <td>2</td>\n",
       "      <td>HYDERABAD</td>\n",
       "      <td>NaN</td>\n",
       "      <td>NaN</td>\n",
       "      <td>NaN</td>\n",
       "      <td>NaN</td>\n",
       "      <td>NaN</td>\n",
       "      <td>NaN</td>\n",
       "      <td>83.170</td>\n",
       "      <td>4000.0</td>\n",
       "      <td>0.00</td>\n",
       "      <td>4000.00</td>\n",
       "      <td>64.159745</td>\n",
       "      <td>37</td>\n",
       "      <td>5</td>\n",
       "      <td>77</td>\n",
       "      <td>NaN</td>\n",
       "    </tr>\n",
       "    <tr>\n",
       "      <th>3</th>\n",
       "      <td>3</td>\n",
       "      <td>JAGTIAL</td>\n",
       "      <td>122152.0</td>\n",
       "      <td>33610.0</td>\n",
       "      <td>14069.0</td>\n",
       "      <td>4141.0</td>\n",
       "      <td>305.0</td>\n",
       "      <td>1.32</td>\n",
       "      <td>60.490</td>\n",
       "      <td>60040.0</td>\n",
       "      <td>27908.15</td>\n",
       "      <td>32131.85</td>\n",
       "      <td>45.562538</td>\n",
       "      <td>0</td>\n",
       "      <td>222</td>\n",
       "      <td>461</td>\n",
       "      <td>15.0</td>\n",
       "    </tr>\n",
       "    <tr>\n",
       "      <th>4</th>\n",
       "      <td>4</td>\n",
       "      <td>JANGAON</td>\n",
       "      <td>90994.0</td>\n",
       "      <td>35348.0</td>\n",
       "      <td>15975.0</td>\n",
       "      <td>5459.0</td>\n",
       "      <td>406.0</td>\n",
       "      <td>1.28</td>\n",
       "      <td>61.450</td>\n",
       "      <td>31000.0</td>\n",
       "      <td>23879.04</td>\n",
       "      <td>7120.96</td>\n",
       "      <td>49.239904</td>\n",
       "      <td>28</td>\n",
       "      <td>564</td>\n",
       "      <td>49</td>\n",
       "      <td>13.0</td>\n",
       "    </tr>\n",
       "  </tbody>\n",
       "</table>\n",
       "</div>"
      ],
      "text/plain": [
       "   Unnamed: 0  Districts  Marginal  Small farms  Semi-Medium farms  \\\n",
       "0           0   ADILABAD   38320.0      44643.0            31113.0   \n",
       "1           1  BHADRADRI   75738.0      32202.0            19815.0   \n",
       "2           2  HYDERABAD       NaN          NaN                NaN   \n",
       "3           3   JAGTIAL   122152.0      33610.0            14069.0   \n",
       "4           4   JANGAON    90994.0      35348.0            15975.0   \n",
       "\n",
       "   Medium farms  Large  crop_intensity  Literacy Rate  capacity_warehouse  \\\n",
       "0        7611.0  535.0            1.05         63.440             76665.0   \n",
       "1        4750.0  573.0            1.15         66.445             66050.0   \n",
       "2           NaN    NaN             NaN         83.170              4000.0   \n",
       "3        4141.0  305.0            1.32         60.490             60040.0   \n",
       "4        5459.0  406.0            1.28         61.450             31000.0   \n",
       "\n",
       "   occupancy_warehouse  vacancy_warehouse  NonWork-%  State Highways  \\\n",
       "0             19591.80           57073.20  50.756729              80   \n",
       "1             53851.99           12198.01  51.638468             104   \n",
       "2                 0.00            4000.00  64.159745              37   \n",
       "3             27908.15           32131.85  45.562538               0   \n",
       "4             23879.04            7120.96  49.239904              28   \n",
       "\n",
       "   Major District Roads  Rural Roads  crop_diversity  \n",
       "0                   123          301            26.0  \n",
       "1                   410          420            15.0  \n",
       "2                     5           77             NaN  \n",
       "3                   222          461            15.0  \n",
       "4                   564           49            13.0  "
      ]
     },
     "execution_count": 7,
     "metadata": {},
     "output_type": "execute_result"
    }
   ],
   "source": [
    "dataset = pd.read_csv(r\"Datasets\\data.csv\",sep=\",\")\n",
    "dataset.head()"
   ]
  },
  {
   "cell_type": "code",
   "execution_count": 128,
   "metadata": {},
   "outputs": [],
   "source": [
    "dataset = dataset.fillna(dataset.mean())"
   ]
  },
  {
   "cell_type": "code",
   "execution_count": 129,
   "metadata": {},
   "outputs": [],
   "source": [
    "districts = list(dataset[\"Districts\"])\n",
    "dataset = dataset.drop([\"Districts\",\"Unnamed: 0\"],axis=1)"
   ]
  },
  {
   "cell_type": "code",
   "execution_count": 130,
   "metadata": {},
   "outputs": [],
   "source": [
    "labels = [[1,0,0],[1,0,0],[0,0,1],[0,1,0],[0,1,0],[1,0,0],[0,0,1],[0,1,0],[1,0,0],[0,1,0],[0,0,1],[0,1,0],[1,0,0],[0,0,1],[0,0,1],[0,0,1],[1,0,0],[1,0,0],[1,0,0],[1,0,0],[0,0,1],[0,1,0],[0,1,0],[1,0,0],[0,0,1],[1,0,0],[0,1,0],[0,1,0],[0,1,0],[1,0,0],[0,0,1]]"
   ]
  },
  {
   "cell_type": "code",
   "execution_count": 131,
   "metadata": {},
   "outputs": [],
   "source": [
    "labelsarr = np.array(labels)\n",
    "labell = []\n",
    "for i in labelsarr:\n",
    "       labell.append(np.where(i==1)[0][0])"
   ]
  },
  {
   "cell_type": "code",
   "execution_count": 132,
   "metadata": {},
   "outputs": [],
   "source": [
    "dataset[\"FoodSecurity_Base\"] = labell"
   ]
  },
  {
   "cell_type": "code",
   "execution_count": 133,
   "metadata": {},
   "outputs": [],
   "source": [
    "x = dataset.iloc[:, 0:-1]\n",
    "y = dataset.iloc[:,-1:]"
   ]
  },
  {
   "cell_type": "code",
   "execution_count": 134,
   "metadata": {},
   "outputs": [],
   "source": [
    "X_train,X_test,y_train,y_test = train_test_split(x,y,test_size=0.3)"
   ]
  },
  {
   "cell_type": "code",
   "execution_count": 135,
   "metadata": {},
   "outputs": [],
   "source": [
    "scaler = StandardScaler()\n",
    "X_train = sc.fit_transform(X_train)\n",
    "X_test = sc.transform(X_test)"
   ]
  },
  {
   "cell_type": "code",
   "execution_count": 136,
   "metadata": {},
   "outputs": [
    {
     "name": "stdout",
     "output_type": "stream",
     "text": [
      "Knn Classfier Scores :: {2: [0.5238095238095238, 0.4], 3: [0.47619047619047616, 0.3], 4: [0.5714285714285714, 0.3], 5: [0.5714285714285714, 0.4], 6: [0.5714285714285714, 0.3], 7: [0.42857142857142855, 0.3], 8: [0.42857142857142855, 0.3], 9: [0.3333333333333333, 0.4], 10: [0.38095238095238093, 0.4], 11: [0.3333333333333333, 0.4], 12: [0.3333333333333333, 0.5], 13: [0.2857142857142857, 0.3], 14: [0.2857142857142857, 0.4], 15: [0.3333333333333333, 0.4], 16: [0.2857142857142857, 0.5], 17: [0.3333333333333333, 0.4], 18: [0.14285714285714285, 0.3], 19: [0.2857142857142857, 0.2], 20: [0.38095238095238093, 0.4]}\n"
     ]
    },
    {
     "name": "stderr",
     "output_type": "stream",
     "text": [
      "C:\\Users\\MSI\\Anaconda3\\envs\\python_env\\lib\\site-packages\\ipykernel_launcher.py:8: DataConversionWarning: A column-vector y was passed when a 1d array was expected. Please change the shape of y to (n_samples, ), for example using ravel().\n",
      "  \n",
      "C:\\Users\\MSI\\Anaconda3\\envs\\python_env\\lib\\site-packages\\ipykernel_launcher.py:8: DataConversionWarning: A column-vector y was passed when a 1d array was expected. Please change the shape of y to (n_samples, ), for example using ravel().\n",
      "  \n",
      "C:\\Users\\MSI\\Anaconda3\\envs\\python_env\\lib\\site-packages\\ipykernel_launcher.py:8: DataConversionWarning: A column-vector y was passed when a 1d array was expected. Please change the shape of y to (n_samples, ), for example using ravel().\n",
      "  \n",
      "C:\\Users\\MSI\\Anaconda3\\envs\\python_env\\lib\\site-packages\\ipykernel_launcher.py:8: DataConversionWarning: A column-vector y was passed when a 1d array was expected. Please change the shape of y to (n_samples, ), for example using ravel().\n",
      "  \n",
      "C:\\Users\\MSI\\Anaconda3\\envs\\python_env\\lib\\site-packages\\ipykernel_launcher.py:8: DataConversionWarning: A column-vector y was passed when a 1d array was expected. Please change the shape of y to (n_samples, ), for example using ravel().\n",
      "  \n",
      "C:\\Users\\MSI\\Anaconda3\\envs\\python_env\\lib\\site-packages\\ipykernel_launcher.py:8: DataConversionWarning: A column-vector y was passed when a 1d array was expected. Please change the shape of y to (n_samples, ), for example using ravel().\n",
      "  \n",
      "C:\\Users\\MSI\\Anaconda3\\envs\\python_env\\lib\\site-packages\\ipykernel_launcher.py:8: DataConversionWarning: A column-vector y was passed when a 1d array was expected. Please change the shape of y to (n_samples, ), for example using ravel().\n",
      "  \n",
      "C:\\Users\\MSI\\Anaconda3\\envs\\python_env\\lib\\site-packages\\ipykernel_launcher.py:8: DataConversionWarning: A column-vector y was passed when a 1d array was expected. Please change the shape of y to (n_samples, ), for example using ravel().\n",
      "  \n",
      "C:\\Users\\MSI\\Anaconda3\\envs\\python_env\\lib\\site-packages\\ipykernel_launcher.py:8: DataConversionWarning: A column-vector y was passed when a 1d array was expected. Please change the shape of y to (n_samples, ), for example using ravel().\n",
      "  \n",
      "C:\\Users\\MSI\\Anaconda3\\envs\\python_env\\lib\\site-packages\\ipykernel_launcher.py:8: DataConversionWarning: A column-vector y was passed when a 1d array was expected. Please change the shape of y to (n_samples, ), for example using ravel().\n",
      "  \n",
      "C:\\Users\\MSI\\Anaconda3\\envs\\python_env\\lib\\site-packages\\ipykernel_launcher.py:8: DataConversionWarning: A column-vector y was passed when a 1d array was expected. Please change the shape of y to (n_samples, ), for example using ravel().\n",
      "  \n",
      "C:\\Users\\MSI\\Anaconda3\\envs\\python_env\\lib\\site-packages\\ipykernel_launcher.py:8: DataConversionWarning: A column-vector y was passed when a 1d array was expected. Please change the shape of y to (n_samples, ), for example using ravel().\n",
      "  \n",
      "C:\\Users\\MSI\\Anaconda3\\envs\\python_env\\lib\\site-packages\\ipykernel_launcher.py:8: DataConversionWarning: A column-vector y was passed when a 1d array was expected. Please change the shape of y to (n_samples, ), for example using ravel().\n",
      "  \n",
      "C:\\Users\\MSI\\Anaconda3\\envs\\python_env\\lib\\site-packages\\ipykernel_launcher.py:8: DataConversionWarning: A column-vector y was passed when a 1d array was expected. Please change the shape of y to (n_samples, ), for example using ravel().\n",
      "  \n",
      "C:\\Users\\MSI\\Anaconda3\\envs\\python_env\\lib\\site-packages\\ipykernel_launcher.py:8: DataConversionWarning: A column-vector y was passed when a 1d array was expected. Please change the shape of y to (n_samples, ), for example using ravel().\n",
      "  \n",
      "C:\\Users\\MSI\\Anaconda3\\envs\\python_env\\lib\\site-packages\\ipykernel_launcher.py:8: DataConversionWarning: A column-vector y was passed when a 1d array was expected. Please change the shape of y to (n_samples, ), for example using ravel().\n",
      "  \n",
      "C:\\Users\\MSI\\Anaconda3\\envs\\python_env\\lib\\site-packages\\ipykernel_launcher.py:8: DataConversionWarning: A column-vector y was passed when a 1d array was expected. Please change the shape of y to (n_samples, ), for example using ravel().\n",
      "  \n",
      "C:\\Users\\MSI\\Anaconda3\\envs\\python_env\\lib\\site-packages\\ipykernel_launcher.py:8: DataConversionWarning: A column-vector y was passed when a 1d array was expected. Please change the shape of y to (n_samples, ), for example using ravel().\n",
      "  \n",
      "C:\\Users\\MSI\\Anaconda3\\envs\\python_env\\lib\\site-packages\\ipykernel_launcher.py:8: DataConversionWarning: A column-vector y was passed when a 1d array was expected. Please change the shape of y to (n_samples, ), for example using ravel().\n",
      "  \n"
     ]
    }
   ],
   "source": [
    "K = [] \n",
    "training = [] \n",
    "test = [] \n",
    "scores = {} \n",
    "  \n",
    "for k in range(2, 21): \n",
    "    Knn_clf = KNeighborsClassifier(n_neighbors = k) \n",
    "    Knn_clf.fit(X_train, y_train) \n",
    "  \n",
    "    training_score = Knn_clf.score(X_train, y_train) \n",
    "    test_score = Knn_clf.score(X_test, y_test) \n",
    "    K.append(k) \n",
    "  \n",
    "    training.append(training_score) \n",
    "    test.append(test_score) \n",
    "    scores[k] = [training_score, test_score] \n",
    "print(\"Knn Classfier Scores ::\",scores)    "
   ]
  },
  {
   "cell_type": "code",
   "execution_count": 137,
   "metadata": {},
   "outputs": [
    {
     "name": "stdout",
     "output_type": "stream",
     "text": [
      "ACCURACY OF THE MODEL:  0.4\n"
     ]
    },
    {
     "name": "stderr",
     "output_type": "stream",
     "text": [
      "C:\\Users\\MSI\\Anaconda3\\envs\\python_env\\lib\\site-packages\\ipykernel_launcher.py:2: DataConversionWarning: A column-vector y was passed when a 1d array was expected. Please change the shape of y to (n_samples,), for example using ravel().\n",
      "  \n"
     ]
    }
   ],
   "source": [
    "clf = RandomForestClassifier(n_estimators = 5)\n",
    "clf.fit(X_train, y_train) \n",
    "y_pred = clf.predict(X_test) \n",
    "print(\"ACCURACY OF THE MODEL: \", metrics.accuracy_score(y_test, y_pred)) "
   ]
  },
  {
   "cell_type": "code",
   "execution_count": 153,
   "metadata": {},
   "outputs": [
    {
     "name": "stderr",
     "output_type": "stream",
     "text": [
      "C:\\Users\\MSI\\Anaconda3\\envs\\python_env\\lib\\site-packages\\sklearn\\utils\\validation.py:578: DataConversionWarning: A column-vector y was passed when a 1d array was expected. Please change the shape of y to (n_samples, ), for example using ravel().\n",
      "  y = column_or_1d(y, warn=True)\n"
     ]
    },
    {
     "data": {
      "text/plain": [
       "array([0, 0, 0, 1, 0, 0, 0, 0, 0, 0], dtype=int64)"
      ]
     },
     "execution_count": 153,
     "metadata": {},
     "output_type": "execute_result"
    }
   ],
   "source": [
    "model = GradientBoostingClassifier()\n",
    "model.fit(X_train, y_train)\n",
    "yhat = model.predict(X_test)\n",
    "yhat"
   ]
  },
  {
   "cell_type": "code",
   "execution_count": 158,
   "metadata": {},
   "outputs": [
    {
     "name": "stdout",
     "output_type": "stream",
     "text": [
      "[1 1 0 0 0 1 0 0 1 0] \n",
      " [array([2], dtype=int64), array([0], dtype=int64), array([0], dtype=int64), array([0], dtype=int64), array([0], dtype=int64), array([0], dtype=int64), array([2], dtype=int64), array([1], dtype=int64), array([1], dtype=int64), array([1], dtype=int64)]\n"
     ]
    }
   ],
   "source": [
    "print(Knn_clf.predict(X_test),\"\\n\",list(y_test.values))"
   ]
  },
  {
   "cell_type": "code",
   "execution_count": 119,
   "metadata": {},
   "outputs": [
    {
     "data": {
      "text/plain": [
       "[Text(0,0.5,'Training Score'), Text(0.5,0,'values of k')]"
      ]
     },
     "execution_count": 119,
     "metadata": {},
     "output_type": "execute_result"
    },
    {
     "data": {
      "image/png": "[encoded data removed]",
      "text/plain": [
       "<Figure size 432x288 with 1 Axes>"
      ]
     },
     "metadata": {},
     "output_type": "display_data"
    }
   ],
   "source": [
    "ax = sns.stripplot(K, training); \n",
    "ax.set(xlabel ='values of k', ylabel ='Training Score') "
   ]
  },
  {
   "cell_type": "code",
   "execution_count": 122,
   "metadata": {},
   "outputs": [
    {
     "data": {
      "image/png": "[encoded data removed]",
      "text/plain": [
       "<Figure size 432x288 with 1 Axes>"
      ]
     },
     "metadata": {},
     "output_type": "display_data"
    }
   ],
   "source": [
    "ax = sns.stripplot(K, test); \n",
    "ax.set(xlabel ='values of k', ylabel ='Test Score') \n",
    "plt.show() "
   ]
  },
  {
   "cell_type": "code",
   "execution_count": 123,
   "metadata": {},
   "outputs": [
    {
     "data": {
      "image/png": "[encoded data removed]",
      "text/plain": [
       "<Figure size 432x288 with 1 Axes>"
      ]
     },
     "metadata": {},
     "output_type": "display_data"
    }
   ],
   "source": [
    "plt.scatter(K, training, color ='k') \n",
    "plt.scatter(K, test, color ='g') \n",
    "plt.show() "
   ]
  },
  {
   "cell_type": "code",
   "execution_count": 124,
   "metadata": {},
   "outputs": [
    {
     "data": {
      "text/plain": [
       "array([-2.00291039, -1.06412521,  0.66546753,  0.61758353,  0.26750642,\n",
       "       -0.74648298, -0.85936704, -0.80536002, -0.78253544, -0.20512658,\n",
       "        0.07761131, -0.01008096,  1.47431649,  0.06761841,  4.7633699 ])"
      ]
     },
     "execution_count": 124,
     "metadata": {},
     "output_type": "execute_result"
    }
   ],
   "source": [
    "X_test[0]"
   ]
  },
  {
   "cell_type": "code",
   "execution_count": null,
   "metadata": {},
   "outputs": [],
   "source": []
  }
 ],
 "metadata": {
  "kernelspec": {
   "display_name": "Python 3",
   "language": "python",
   "name": "python3"
  },
  "language_info": {
   "codemirror_mode": {
    "name": "ipython",
    "version": 3
   },
   "file_extension": ".py",
   "mimetype": "text/x-python",
   "name": "python",
   "nbconvert_exporter": "python",
   "pygments_lexer": "ipython3",
   "version": "3.5.5"
  }
 },
 "nbformat": 4,
 "nbformat_minor": 2
}
