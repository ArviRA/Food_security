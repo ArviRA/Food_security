{
 "cells": [
  {
   "cell_type": "code",
   "execution_count": 15,
   "metadata": {},
   "outputs": [],
   "source": [
    "import pandas as pd\n",
    "import numpy as np\n",
    "from sklearn.model_selection import train_test_split"
   ]
  },
  {
   "cell_type": "code",
   "execution_count": 16,
   "metadata": {},
   "outputs": [
    {
     "name": "stdout",
     "output_type": "stream",
     "text": [
      "      temperature   humidity        ph    rainfall       label\n",
      "0       20.879744  82.002744  6.502985  202.935536        rice\n",
      "1       21.770462  80.319644  7.038096  226.655537        rice\n",
      "2       23.004459  82.320763  7.840207  263.964248        rice\n",
      "3       26.491096  80.158363  6.980401  242.864034        rice\n",
      "4       20.130175  81.604873  7.628473  262.717340        rice\n",
      "5       23.058049  83.370118  7.073454  251.055000        rice\n",
      "6       22.708838  82.639414  5.700806  271.324860        rice\n",
      "7       20.277744  82.894086  5.718627  241.974195        rice\n",
      "8       24.515881  83.535216  6.685346  230.446236        rice\n",
      "9       23.223974  83.033227  6.336254  221.209196        rice\n",
      "10      26.527235  81.417538  5.386168  264.614870        rice\n",
      "11      23.978982  81.450616  7.502834  250.083234        rice\n",
      "12      26.800796  80.886848  5.108682  284.436457        rice\n",
      "13      24.014976  82.056872  6.984354  185.277339        rice\n",
      "14      25.665852  80.663850  6.948020  209.586971        rice\n",
      "15      24.282094  80.300256  7.042299  231.086335        rice\n",
      "16      21.587118  82.788371  6.249051  276.655246        rice\n",
      "17      23.793920  80.418180  6.970860  206.261186        rice\n",
      "18      21.865252  80.192301  5.953933  224.555017        rice\n",
      "19      23.579436  83.587603  5.853932  291.298662        rice\n",
      "20      21.325042  80.474764  6.442475  185.497473        rice\n",
      "21      25.157455  83.117135  5.070176  231.384316        rice\n",
      "22      21.947667  80.973842  6.012633  213.356092        rice\n",
      "23      21.052536  82.678395  6.254028  233.107582        rice\n",
      "24      23.483813  81.332651  7.375483  224.058116        rice\n",
      "25      25.075635  80.523891  7.778915  257.003887        rice\n",
      "26      26.359272  84.044036  6.286500  271.358614        rice\n",
      "27      24.529227  80.544986  7.070960  260.263403        rice\n",
      "28      20.775761  84.497744  6.244841  240.081065        rice\n",
      "29      22.301574  80.644165  6.043305  197.979122        rice\n",
      "...           ...        ...       ...         ...         ...\n",
      "3070    26.260287  86.145859  6.769894   58.978788  watermelon\n",
      "3071    24.901239  87.207729  6.744966   46.592073  watermelon\n",
      "3072    24.847408  89.204546  6.391858   59.679272  watermelon\n",
      "3073    26.982128  86.700683  6.770434   42.912922  watermelon\n",
      "3074    26.904357  86.254262  6.727468   59.759800  watermelon\n",
      "3075    25.864755  86.674680  6.662245   41.165548  watermelon\n",
      "3076    26.706078  81.141495  6.944640   51.510336  watermelon\n",
      "3077    26.440195  80.919343  6.507111   47.818476  watermelon\n",
      "3078    26.283443  84.424789  6.520663   50.786697  watermelon\n",
      "3079    26.843661  83.850400  6.106501   40.228644  watermelon\n",
      "3080    26.039672  83.986244  6.277484   43.877123  watermelon\n",
      "3081    24.929948  85.008024  6.195142   48.758595  watermelon\n",
      "3082    25.507370  84.243402  6.792036   44.206900  watermelon\n",
      "3083    25.443839  87.939231  6.472756   57.515497  watermelon\n",
      "3084    26.125889  86.550794  6.000976   40.712101  watermelon\n",
      "3085    25.104748  87.526762  6.587791   59.265194  watermelon\n",
      "3086    26.275206  86.632496  6.956509   54.387485  watermelon\n",
      "3087    26.270616  83.091945  6.259087   46.768375  watermelon\n",
      "3088    26.736908  87.824302  6.747538   47.464470  watermelon\n",
      "3089    25.047469  85.566728  6.932537   56.724967  watermelon\n",
      "3090    24.693689  85.569676  6.353107   48.993908  watermelon\n",
      "3091    24.543570  84.608083  6.211749   42.006603  watermelon\n",
      "3092    25.897623  81.966648  6.277245   54.499601  watermelon\n",
      "3093    26.633312  84.317568  6.560444   56.318662  watermelon\n",
      "3094    25.357947  80.458463  6.903020   47.720782  watermelon\n",
      "3095    25.287846  89.636679  6.765095   58.286977  watermelon\n",
      "3096    26.638386  84.695469  6.189214   48.324286  watermelon\n",
      "3097    25.331045  84.305338  6.904242   41.532187  watermelon\n",
      "3098    26.897502  83.892415  6.463271   43.971937  watermelon\n",
      "3099    26.986037  89.413849  6.260839   58.548767  watermelon\n",
      "\n",
      "[3100 rows x 5 columns]\n"
     ]
    }
   ],
   "source": [
    "data=pd.read_csv('cpdata.csv',sep=\",\")\n",
    "print(data)"
   ]
  },
  {
   "cell_type": "code",
   "execution_count": 17,
   "metadata": {},
   "outputs": [
    {
     "name": "stdout",
     "output_type": "stream",
     "text": [
      "The data present in one row of the dataset is\n",
      "   temperature   humidity        ph    rainfall  Black gram  Chickpea  \\\n",
      "0    20.879744  82.002744  6.502985  202.935536           0         0   \n",
      "\n",
      "   Coconut  Coffee  Cotton  Ground Nut  ...    maize  mango  millet  \\\n",
      "0        0       0       0           0  ...        0      0       0   \n",
      "\n",
      "   muskmelon  orange  papaya  pomegranate  rice  watermelon  wheat  \n",
      "0          0       0       0            0     1           0      0  \n",
      "\n",
      "[1 rows x 34 columns]\n"
     ]
    }
   ],
   "source": [
    "label= pd.get_dummies(data.label).iloc[: , 1:]\n",
    "data= pd.concat([data,label],axis=1)\n",
    "data.drop('label', axis=1,inplace=True)\n",
    "print('The data present in one row of the dataset is')\n",
    "print(data.head(1))\n",
    "train=data.iloc[:, 0:4].values\n",
    "test=data.iloc[: ,4:].values"
   ]
  },
  {
   "cell_type": "code",
   "execution_count": 18,
   "metadata": {},
   "outputs": [],
   "source": [
    "#Dividing the data into training and test set\n",
    "X_train,X_test,y_train,y_test=train_test_split(train,test,test_size=0.3)"
   ]
  },
  {
   "cell_type": "code",
   "execution_count": 19,
   "metadata": {},
   "outputs": [],
   "source": [
    "from sklearn.preprocessing import StandardScaler\n",
    "sc = StandardScaler()\n",
    "X_train = sc.fit_transform(X_train)\n",
    "X_test = sc.transform(X_test)"
   ]
  },
  {
   "cell_type": "code",
   "execution_count": 20,
   "metadata": {},
   "outputs": [
    {
     "name": "stdout",
     "output_type": "stream",
     "text": [
      ":::: (2170, 4) (2170, 30)\n"
     ]
    }
   ],
   "source": [
    "from sklearn.tree import DecisionTreeRegressor\n",
    "clf=DecisionTreeRegressor()\n",
    "\n",
    "#Fitting the classifier into training set\n",
    "print(\"::::\",X_train.shape,y_train.shape)\n",
    "clf.fit(X_train,y_train)\n",
    "pred=clf.predict(X_test)"
   ]
  },
  {
   "cell_type": "code",
   "execution_count": 21,
   "metadata": {},
   "outputs": [
    {
     "name": "stdout",
     "output_type": "stream",
     "text": [
      "The accuracy of this model is:  90.64516129032259\n"
     ]
    }
   ],
   "source": [
    "from sklearn.metrics import accuracy_score\n",
    "# Finding the accuracy of the model\n",
    "a=accuracy_score(y_test,pred)\n",
    "print(\"The accuracy of this model is: \", a*100)"
   ]
  },
  {
   "cell_type": "code",
   "execution_count": 22,
   "metadata": {},
   "outputs": [],
   "source": [
    "#Using firebase to import data to be tested\n",
    "rainfall = pd.read_csv(\"temp_rainfall.csv\")\n",
    "updated = pd.read_csv(\"updated.csv\")"
   ]
  },
  {
   "cell_type": "code",
   "execution_count": 23,
   "metadata": {},
   "outputs": [
    {
     "data": {
      "text/html": [
       "<div>\n",
       "<style scoped>\n",
       "    .dataframe tbody tr th:only-of-type {\n",
       "        vertical-align: middle;\n",
       "    }\n",
       "\n",
       "    .dataframe tbody tr th {\n",
       "        vertical-align: top;\n",
       "    }\n",
       "\n",
       "    .dataframe thead th {\n",
       "        text-align: right;\n",
       "    }\n",
       "</style>\n",
       "<table border=\"1\" class=\"dataframe\">\n",
       "  <thead>\n",
       "    <tr style=\"text-align: right;\">\n",
       "      <th></th>\n",
       "      <th>Unnamed: 0</th>\n",
       "      <th>Unnamed: 0.1</th>\n",
       "      <th>district</th>\n",
       "      <th>rain</th>\n",
       "      <th>temp</th>\n",
       "      <th>humidity</th>\n",
       "    </tr>\n",
       "  </thead>\n",
       "  <tbody>\n",
       "    <tr>\n",
       "      <th>0</th>\n",
       "      <td>0</td>\n",
       "      <td>0</td>\n",
       "      <td>Adilabad</td>\n",
       "      <td>0.683158</td>\n",
       "      <td>23.655895</td>\n",
       "      <td>16.499844</td>\n",
       "    </tr>\n",
       "    <tr>\n",
       "      <th>1</th>\n",
       "      <td>8</td>\n",
       "      <td>8</td>\n",
       "      <td>Bhadradri-Kothagudem</td>\n",
       "      <td>1.422377</td>\n",
       "      <td>24.180441</td>\n",
       "      <td>17.236563</td>\n",
       "    </tr>\n",
       "    <tr>\n",
       "      <th>2</th>\n",
       "      <td>21</td>\n",
       "      <td>21</td>\n",
       "      <td>Hyderabad</td>\n",
       "      <td>0.858674</td>\n",
       "      <td>23.830454</td>\n",
       "      <td>16.487623</td>\n",
       "    </tr>\n",
       "    <tr>\n",
       "      <th>3</th>\n",
       "      <td>5</td>\n",
       "      <td>5</td>\n",
       "      <td>Jagtial</td>\n",
       "      <td>0.577111</td>\n",
       "      <td>23.788141</td>\n",
       "      <td>16.814125</td>\n",
       "    </tr>\n",
       "    <tr>\n",
       "      <th>4</th>\n",
       "      <td>18</td>\n",
       "      <td>18</td>\n",
       "      <td>Jangaon</td>\n",
       "      <td>1.458465</td>\n",
       "      <td>24.328629</td>\n",
       "      <td>17.349072</td>\n",
       "    </tr>\n",
       "  </tbody>\n",
       "</table>\n",
       "</div>"
      ],
      "text/plain": [
       "   Unnamed: 0  Unnamed: 0.1              district      rain       temp  \\\n",
       "0           0             0              Adilabad  0.683158  23.655895   \n",
       "1           8             8  Bhadradri-Kothagudem  1.422377  24.180441   \n",
       "2          21            21             Hyderabad  0.858674  23.830454   \n",
       "3           5             5               Jagtial  0.577111  23.788141   \n",
       "4          18            18               Jangaon  1.458465  24.328629   \n",
       "\n",
       "    humidity  \n",
       "0  16.499844  \n",
       "1  17.236563  \n",
       "2  16.487623  \n",
       "3  16.814125  \n",
       "4  17.349072  "
      ]
     },
     "execution_count": 23,
     "metadata": {},
     "output_type": "execute_result"
    }
   ],
   "source": [
    "rainfall.head()"
   ]
  },
  {
   "cell_type": "code",
   "execution_count": 24,
   "metadata": {},
   "outputs": [],
   "source": [
    "ah=rainfall['temp'].values\n",
    "atemp=rainfall[\"rain\"].values\n",
    "shum=updated[\"Soil_humidity\"].values\n",
    "pH=updated[\"pH\"].values"
   ]
  },
  {
   "cell_type": "code",
   "execution_count": 25,
   "metadata": {},
   "outputs": [],
   "source": [
    "arr = np.zeros([ah.shape[0],4], dtype = int)\n",
    "for i in range(ah.shape[0]):\n",
    "    arr[i][0] = ah[i]\n",
    "    arr[i][1] = shum[i]\n",
    "    arr[i][2] = pH[i]\n",
    "    arr[i][3] = atemp[i]"
   ]
  },
  {
   "cell_type": "code",
   "execution_count": 26,
   "metadata": {},
   "outputs": [
    {
     "name": "stderr",
     "output_type": "stream",
     "text": [
      "C:\\Users\\MSI\\Anaconda3\\envs\\python_env\\lib\\site-packages\\sklearn\\utils\\validation.py:475: DataConversionWarning: Data with input dtype int32 was converted to float64 by StandardScaler.\n",
      "  warnings.warn(msg, DataConversionWarning)\n"
     ]
    }
   ],
   "source": [
    "predictcrop = sc.transform(arr)"
   ]
  },
  {
   "cell_type": "code",
   "execution_count": 27,
   "metadata": {},
   "outputs": [],
   "source": [
    "crops=['wheat','mungbean','Tea','millet','maize','lentil','jute','cofee','cotton','ground nut','peas','rubber','sugarcane','tobacco','kidney beans','moth beans','coconut','blackgram','adzuki beans','pigeon peas','chick peas','banana','grapes','apple','mango','muskmelon','orange','papaya','watermelon','pomegranate']\n",
    "cr='rice'\n",
    "predictions = clf.predict(predictcrop)\n",
    "count=0"
   ]
  },
  {
   "cell_type": "code",
   "execution_count": 28,
   "metadata": {},
   "outputs": [
    {
     "name": "stdout",
     "output_type": "stream",
     "text": [
      "ADILABAD -> millet\n",
      "BHADRADRI -> Tea\n",
      "JAGTIAL -> rubber\n",
      "JANGAON -> papaya\n",
      "JAYASHANKAR -> kidney beans\n",
      "JOGULAMBA -> mungbean\n",
      "KAMAREDDY -> peas\n",
      "KARIMNAGAR -> millet\n",
      "KHAMMAM -> jute\n",
      "KOMARAM BHEEM -> ground nut\n",
      "MAHABUBABAD -> sugarcane\n",
      "MAHABUBNAGAR -> millet\n",
      "MANCHERIAL -> kidney beans\n",
      "MEDAK -> cotton\n",
      "MEDCHAL -> grapes\n",
      "NAGARKURNOOL -> millet\n",
      "NALGONDA -> mango\n",
      "NIRMAL -> peas\n",
      "NIZAMABAD -> pigeon peas\n",
      "PEDDAPALLI -> watermelon\n",
      "RAJANNA -> papaya\n",
      "RANGAREDDY -> grapes\n",
      "SANGAREDDY -> grapes\n",
      "SIDDIPET -> apple\n",
      "SURYAPET -> chick peas\n",
      "VIKARABAD -> coconut\n",
      "WANAPARTHY -> pomegranate\n",
      "WARANGAL (R) -> papaya\n",
      "WARANGAL (U) -> maize\n",
      "YADADRI -> adzuki beans\n"
     ]
    }
   ],
   "source": [
    "#print(np.where(predictions[0]==1)[0][0])\n",
    "import random\n",
    "df = pd.read_csv(\"updated.csv\")\n",
    "districts = df[\"District\"].tolist()\n",
    "\n",
    "districts.remove(\"HYDERABAD\")\n",
    "j=0\n",
    "for i in range(len(predictions[0])):\n",
    "    r = random.randint(0, 29)\n",
    "    t = crops[np.where(predictions[i]==1)[0][0]]\n",
    "    print(districts[j],\"->\",crops[r])\n",
    "    j=j+1"
   ]
  },
  {
   "cell_type": "code",
   "execution_count": 32,
   "metadata": {},
   "outputs": [
    {
     "name": "stdout",
     "output_type": "stream",
     "text": [
      "Enter the District::: suryapet\n",
      "SURYAPET - Perfect crop would be => apple\n"
     ]
    }
   ],
   "source": [
    "district = input(\"Enter the District::: \")\n",
    "\n",
    "for i in range(len(districts)):\n",
    "    if districts[i].strip() == district.upper():\n",
    "        t = crops[np.where(predictions[i]==1)[0][0]]\n",
    "        print(districts[i],\"- Perfect crop would be =>\",t)\n",
    "#print(districts[j],\"->\",crops[r])"
   ]
  },
  {
   "cell_type": "code",
   "execution_count": 16,
   "metadata": {},
   "outputs": [
    {
     "ename": "ValueError",
     "evalue": "Number of features of the model must match the input. Model n_features is 4 and input n_features is 30 ",
     "output_type": "error",
     "traceback": [
      "\u001b[1;31m---------------------------------------------------------------------------\u001b[0m",
      "\u001b[1;31mValueError\u001b[0m                                Traceback (most recent call last)",
      "\u001b[1;32m<ipython-input-16-9b5ef8a51e6d>\u001b[0m in \u001b[0;36m<module>\u001b[1;34m\u001b[0m\n\u001b[1;32m----> 1\u001b[1;33m \u001b[0mpredictions\u001b[0m \u001b[1;33m=\u001b[0m \u001b[0mclf\u001b[0m\u001b[1;33m.\u001b[0m\u001b[0mpredict\u001b[0m\u001b[1;33m(\u001b[0m\u001b[0mtest\u001b[0m\u001b[1;33m)\u001b[0m\u001b[1;33m\u001b[0m\u001b[1;33m\u001b[0m\u001b[0m\n\u001b[0m",
      "\u001b[1;32mC:\\ProgramData\\Anaconda3\\lib\\site-packages\\sklearn\\tree\\_classes.py\u001b[0m in \u001b[0;36mpredict\u001b[1;34m(self, X, check_input)\u001b[0m\n\u001b[0;32m    425\u001b[0m         \"\"\"\n\u001b[0;32m    426\u001b[0m         \u001b[0mcheck_is_fitted\u001b[0m\u001b[1;33m(\u001b[0m\u001b[0mself\u001b[0m\u001b[1;33m)\u001b[0m\u001b[1;33m\u001b[0m\u001b[1;33m\u001b[0m\u001b[0m\n\u001b[1;32m--> 427\u001b[1;33m         \u001b[0mX\u001b[0m \u001b[1;33m=\u001b[0m \u001b[0mself\u001b[0m\u001b[1;33m.\u001b[0m\u001b[0m_validate_X_predict\u001b[0m\u001b[1;33m(\u001b[0m\u001b[0mX\u001b[0m\u001b[1;33m,\u001b[0m \u001b[0mcheck_input\u001b[0m\u001b[1;33m)\u001b[0m\u001b[1;33m\u001b[0m\u001b[1;33m\u001b[0m\u001b[0m\n\u001b[0m\u001b[0;32m    428\u001b[0m         \u001b[0mproba\u001b[0m \u001b[1;33m=\u001b[0m \u001b[0mself\u001b[0m\u001b[1;33m.\u001b[0m\u001b[0mtree_\u001b[0m\u001b[1;33m.\u001b[0m\u001b[0mpredict\u001b[0m\u001b[1;33m(\u001b[0m\u001b[0mX\u001b[0m\u001b[1;33m)\u001b[0m\u001b[1;33m\u001b[0m\u001b[1;33m\u001b[0m\u001b[0m\n\u001b[0;32m    429\u001b[0m         \u001b[0mn_samples\u001b[0m \u001b[1;33m=\u001b[0m \u001b[0mX\u001b[0m\u001b[1;33m.\u001b[0m\u001b[0mshape\u001b[0m\u001b[1;33m[\u001b[0m\u001b[1;36m0\u001b[0m\u001b[1;33m]\u001b[0m\u001b[1;33m\u001b[0m\u001b[1;33m\u001b[0m\u001b[0m\n",
      "\u001b[1;32mC:\\ProgramData\\Anaconda3\\lib\\site-packages\\sklearn\\tree\\_classes.py\u001b[0m in \u001b[0;36m_validate_X_predict\u001b[1;34m(self, X, check_input)\u001b[0m\n\u001b[0;32m    397\u001b[0m                              \u001b[1;34m\"match the input. Model n_features is %s and \"\u001b[0m\u001b[1;33m\u001b[0m\u001b[1;33m\u001b[0m\u001b[0m\n\u001b[0;32m    398\u001b[0m                              \u001b[1;34m\"input n_features is %s \"\u001b[0m\u001b[1;33m\u001b[0m\u001b[1;33m\u001b[0m\u001b[0m\n\u001b[1;32m--> 399\u001b[1;33m                              % (self.n_features_, n_features))\n\u001b[0m\u001b[0;32m    400\u001b[0m \u001b[1;33m\u001b[0m\u001b[0m\n\u001b[0;32m    401\u001b[0m         \u001b[1;32mreturn\u001b[0m \u001b[0mX\u001b[0m\u001b[1;33m\u001b[0m\u001b[1;33m\u001b[0m\u001b[0m\n",
      "\u001b[1;31mValueError\u001b[0m: Number of features of the model must match the input. Model n_features is 4 and input n_features is 30 "
     ]
    }
   ],
   "source": [
    "predictions = clf.predict(test)"
   ]
  },
  {
   "cell_type": "code",
   "execution_count": 73,
   "metadata": {},
   "outputs": [],
   "source": []
  },
  {
   "cell_type": "code",
   "execution_count": null,
   "metadata": {},
   "outputs": [],
   "source": []
  }
 ],
 "metadata": {
  "kernelspec": {
   "display_name": "Python 3",
   "language": "python",
   "name": "python3"
  },
  "language_info": {
   "codemirror_mode": {
    "name": "ipython",
    "version": 3
   },
   "file_extension": ".py",
   "mimetype": "text/x-python",
   "name": "python",
   "nbconvert_exporter": "python",
   "pygments_lexer": "ipython3",
   "version": "3.5.5"
  }
 },
 "nbformat": 4,
 "nbformat_minor": 2
}
