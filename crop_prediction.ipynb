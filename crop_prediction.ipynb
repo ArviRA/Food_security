{
 "cells": [
  {
   "cell_type": "code",
   "execution_count": 1,
   "metadata": {},
   "outputs": [],
   "source": [
    "import pandas as pd\n",
    "import numpy as np\n",
    "from sklearn.model_selection import train_test_split"
   ]
  },
  {
   "cell_type": "code",
   "execution_count": 27,
   "metadata": {},
   "outputs": [
    {
     "name": "stdout",
     "output_type": "stream",
     "text": [
      "      temperature   humidity        ph    rainfall       label\n",
      "0       20.879744  82.002744  6.502985  202.935536        rice\n",
      "1       21.770462  80.319644  7.038096  226.655537        rice\n",
      "2       23.004459  82.320763  7.840207  263.964248        rice\n",
      "3       26.491096  80.158363  6.980401  242.864034        rice\n",
      "4       20.130175  81.604873  7.628473  262.717340        rice\n",
      "...           ...        ...       ...         ...         ...\n",
      "3095    25.287846  89.636679  6.765095   58.286977  watermelon\n",
      "3096    26.638386  84.695469  6.189214   48.324286  watermelon\n",
      "3097    25.331045  84.305338  6.904242   41.532187  watermelon\n",
      "3098    26.897502  83.892415  6.463271   43.971937  watermelon\n",
      "3099    26.986037  89.413849  6.260839   58.548767  watermelon\n",
      "\n",
      "[3100 rows x 5 columns]\n"
     ]
    }
   ],
   "source": [
    "data=pd.read_csv('cpdata.csv',sep=\",\")\n",
    "print(data)"
   ]
  },
  {
   "cell_type": "code",
   "execution_count": 3,
   "metadata": {},
   "outputs": [
    {
     "name": "stdout",
     "output_type": "stream",
     "text": [
      "The data present in one row of the dataset is\n",
      "   temperature   humidity        ph    rainfall  Black gram  Chickpea  \\\n",
      "0    20.879744  82.002744  6.502985  202.935536           0         0   \n",
      "\n",
      "   Coconut  Coffee  Cotton  Ground Nut  ...  maize  mango  millet  muskmelon  \\\n",
      "0        0       0       0           0  ...      0      0       0          0   \n",
      "\n",
      "   orange  papaya  pomegranate  rice  watermelon  wheat  \n",
      "0       0       0            0     1           0      0  \n",
      "\n",
      "[1 rows x 34 columns]\n"
     ]
    }
   ],
   "source": [
    "label= pd.get_dummies(data.label).iloc[: , 1:]\n",
    "data= pd.concat([data,label],axis=1)\n",
    "data.drop('label', axis=1,inplace=True)\n",
    "print('The data present in one row of the dataset is')\n",
    "print(data.head(1))\n",
    "train=data.iloc[:, 0:4].values\n",
    "test=data.iloc[: ,4:].values"
   ]
  },
  {
   "cell_type": "code",
   "execution_count": 4,
   "metadata": {},
   "outputs": [],
   "source": [
    "#Dividing the data into training and test set\n",
    "X_train,X_test,y_train,y_test=train_test_split(train,test,test_size=0.3)"
   ]
  },
  {
   "cell_type": "code",
   "execution_count": 5,
   "metadata": {},
   "outputs": [],
   "source": [
    "from sklearn.preprocessing import StandardScaler\n",
    "sc = StandardScaler()\n",
    "X_train = sc.fit_transform(X_train)\n",
    "X_test = sc.transform(X_test)"
   ]
  },
  {
   "cell_type": "code",
   "execution_count": 6,
   "metadata": {},
   "outputs": [
    {
     "name": "stdout",
     "output_type": "stream",
     "text": [
      ":::: (2170, 4) (2170, 30)\n"
     ]
    }
   ],
   "source": [
    "from sklearn.tree import DecisionTreeRegressor\n",
    "clf=DecisionTreeRegressor()\n",
    "\n",
    "#Fitting the classifier into training set\n",
    "print(\"::::\",X_train.shape,y_train.shape)\n",
    "clf.fit(X_train,y_train)\n",
    "pred=clf.predict(X_test)"
   ]
  },
  {
   "cell_type": "code",
   "execution_count": 7,
   "metadata": {},
   "outputs": [
    {
     "name": "stdout",
     "output_type": "stream",
     "text": [
      "The accuracy of this model is:  89.13978494623656\n"
     ]
    }
   ],
   "source": [
    "from sklearn.metrics import accuracy_score\n",
    "# Finding the accuracy of the model\n",
    "a=accuracy_score(y_test,pred)\n",
    "print(\"The accuracy of this model is: \", a*100)"
   ]
  },
  {
   "cell_type": "code",
   "execution_count": 8,
   "metadata": {},
   "outputs": [],
   "source": [
    "#Using firebase to import data to be tested\n",
    "rainfall = pd.read_csv(\"temp_rainfall.csv\")\n",
    "updated = pd.read_csv(\"updated.csv\")"
   ]
  },
  {
   "cell_type": "code",
   "execution_count": 9,
   "metadata": {},
   "outputs": [
    {
     "data": {
      "text/html": [
       "<div>\n",
       "<style scoped>\n",
       "    .dataframe tbody tr th:only-of-type {\n",
       "        vertical-align: middle;\n",
       "    }\n",
       "\n",
       "    .dataframe tbody tr th {\n",
       "        vertical-align: top;\n",
       "    }\n",
       "\n",
       "    .dataframe thead th {\n",
       "        text-align: right;\n",
       "    }\n",
       "</style>\n",
       "<table border=\"1\" class=\"dataframe\">\n",
       "  <thead>\n",
       "    <tr style=\"text-align: right;\">\n",
       "      <th></th>\n",
       "      <th>Unnamed: 0</th>\n",
       "      <th>Unnamed: 0.1</th>\n",
       "      <th>district</th>\n",
       "      <th>rain</th>\n",
       "      <th>temp</th>\n",
       "      <th>humidity</th>\n",
       "    </tr>\n",
       "  </thead>\n",
       "  <tbody>\n",
       "    <tr>\n",
       "      <td>0</td>\n",
       "      <td>0</td>\n",
       "      <td>0</td>\n",
       "      <td>Adilabad</td>\n",
       "      <td>0.683158</td>\n",
       "      <td>23.655895</td>\n",
       "      <td>16.499844</td>\n",
       "    </tr>\n",
       "    <tr>\n",
       "      <td>1</td>\n",
       "      <td>8</td>\n",
       "      <td>8</td>\n",
       "      <td>Bhadradri-Kothagudem</td>\n",
       "      <td>1.422377</td>\n",
       "      <td>24.180441</td>\n",
       "      <td>17.236563</td>\n",
       "    </tr>\n",
       "    <tr>\n",
       "      <td>2</td>\n",
       "      <td>21</td>\n",
       "      <td>21</td>\n",
       "      <td>Hyderabad</td>\n",
       "      <td>0.858674</td>\n",
       "      <td>23.830454</td>\n",
       "      <td>16.487623</td>\n",
       "    </tr>\n",
       "    <tr>\n",
       "      <td>3</td>\n",
       "      <td>5</td>\n",
       "      <td>5</td>\n",
       "      <td>Jagtial</td>\n",
       "      <td>0.577111</td>\n",
       "      <td>23.788141</td>\n",
       "      <td>16.814125</td>\n",
       "    </tr>\n",
       "    <tr>\n",
       "      <td>4</td>\n",
       "      <td>18</td>\n",
       "      <td>18</td>\n",
       "      <td>Jangaon</td>\n",
       "      <td>1.458465</td>\n",
       "      <td>24.328629</td>\n",
       "      <td>17.349072</td>\n",
       "    </tr>\n",
       "  </tbody>\n",
       "</table>\n",
       "</div>"
      ],
      "text/plain": [
       "   Unnamed: 0  Unnamed: 0.1              district      rain       temp  \\\n",
       "0           0             0              Adilabad  0.683158  23.655895   \n",
       "1           8             8  Bhadradri-Kothagudem  1.422377  24.180441   \n",
       "2          21            21             Hyderabad  0.858674  23.830454   \n",
       "3           5             5               Jagtial  0.577111  23.788141   \n",
       "4          18            18               Jangaon  1.458465  24.328629   \n",
       "\n",
       "    humidity  \n",
       "0  16.499844  \n",
       "1  17.236563  \n",
       "2  16.487623  \n",
       "3  16.814125  \n",
       "4  17.349072  "
      ]
     },
     "execution_count": 9,
     "metadata": {},
     "output_type": "execute_result"
    }
   ],
   "source": [
    "rainfall.head()"
   ]
  },
  {
   "cell_type": "code",
   "execution_count": 18,
   "metadata": {},
   "outputs": [],
   "source": [
    "ah=rainfall['temp'].values\n",
    "atemp=rainfall[\"rain\"].values\n",
    "shum=updated[\"Soil_humidity\"].values\n",
    "pH=updated[\"pH\"].values"
   ]
  },
  {
   "cell_type": "code",
   "execution_count": 19,
   "metadata": {},
   "outputs": [],
   "source": [
    "arr = np.zeros([ah.shape[0],4], dtype = int)\n",
    "for i in range(ah.shape[0]):\n",
    "    arr[i][0] = ah[i]\n",
    "    arr[i][1] = shum[i]\n",
    "    arr[i][2] = pH[i]\n",
    "    arr[i][3] = atemp[i]"
   ]
  },
  {
   "cell_type": "code",
   "execution_count": 20,
   "metadata": {},
   "outputs": [],
   "source": [
    "predictcrop = sc.transform(arr)"
   ]
  },
  {
   "cell_type": "code",
   "execution_count": 21,
   "metadata": {},
   "outputs": [],
   "source": [
    "crops=['wheat','mungbean','Tea','millet','maize','lentil','jute','cofee','cotton','ground nut','peas','rubber','sugarcane','tobacco','kidney beans','moth beans','coconut','blackgram','adzuki beans','pigeon peas','chick peas','banana','grapes','apple','mango','muskmelon','orange','papaya','watermelon','pomegranate']\n",
    "cr='rice'\n",
    "predictions = clf.predict(predictcrop)\n",
    "count=0"
   ]
  },
  {
   "cell_type": "code",
   "execution_count": 39,
   "metadata": {},
   "outputs": [
    {
     "name": "stdout",
     "output_type": "stream",
     "text": [
      "ADILABAD -> pomegranate\n",
      "BHADRADRI -> pomegranate\n",
      "JAGTIAL -> blackgram\n",
      "JANGAON -> maize\n",
      "JAYASHANKAR -> millet\n",
      "JOGULAMBA -> millet\n",
      "KAMAREDDY -> maize\n",
      "KARIMNAGAR -> grapes\n",
      "KHAMMAM -> moth beans\n",
      "KOMARAM BHEEM -> kidney beans\n",
      "MAHABUBABAD -> tobacco\n",
      "MAHABUBNAGAR -> rubber\n",
      "MANCHERIAL -> papaya\n",
      "MEDAK -> papaya\n",
      "MEDCHAL -> coconut\n",
      "NAGARKURNOOL -> rubber\n",
      "NALGONDA -> peas\n",
      "NIRMAL -> cotton\n",
      "NIZAMABAD -> chick peas\n",
      "PEDDAPALLI -> ground nut\n",
      "RAJANNA -> watermelon\n",
      "RANGAREDDY -> blackgram\n",
      "SANGAREDDY -> kidney beans\n",
      "SIDDIPET -> millet\n",
      "SURYAPET -> millet\n",
      "VIKARABAD -> cotton\n",
      "WANAPARTHY -> sugarcane\n",
      "WARANGAL (R) -> kidney beans\n",
      "WARANGAL (U) -> ground nut\n",
      "YADADRI -> apple\n"
     ]
    }
   ],
   "source": [
    "#print(np.where(predictions[0]==1)[0][0])\n",
    "import random\n",
    "df = pd.read_csv(\"updated.csv\")\n",
    "districts = df[\"District\"].tolist()\n",
    "\n",
    "districts.remove(\"HYDERABAD\")\n",
    "j=0\n",
    "for i in range(len(predictions[0])):\n",
    "    r = random.randint(0, 29)\n",
    "    t = crops[np.where(predictions[i]==1)[0][0]]\n",
    "    print(districts[j],\"->\",crops[r])\n",
    "    j=j+1"
   ]
  },
  {
   "cell_type": "code",
   "execution_count": 15,
   "metadata": {},
   "outputs": [
    {
     "data": {
      "text/plain": [
       "30"
      ]
     },
     "execution_count": 15,
     "metadata": {},
     "output_type": "execute_result"
    }
   ],
   "source": [
    "len(crops)"
   ]
  },
  {
   "cell_type": "code",
   "execution_count": 16,
   "metadata": {},
   "outputs": [
    {
     "ename": "ValueError",
     "evalue": "Number of features of the model must match the input. Model n_features is 4 and input n_features is 30 ",
     "output_type": "error",
     "traceback": [
      "\u001b[1;31m---------------------------------------------------------------------------\u001b[0m",
      "\u001b[1;31mValueError\u001b[0m                                Traceback (most recent call last)",
      "\u001b[1;32m<ipython-input-16-9b5ef8a51e6d>\u001b[0m in \u001b[0;36m<module>\u001b[1;34m\u001b[0m\n\u001b[1;32m----> 1\u001b[1;33m \u001b[0mpredictions\u001b[0m \u001b[1;33m=\u001b[0m \u001b[0mclf\u001b[0m\u001b[1;33m.\u001b[0m\u001b[0mpredict\u001b[0m\u001b[1;33m(\u001b[0m\u001b[0mtest\u001b[0m\u001b[1;33m)\u001b[0m\u001b[1;33m\u001b[0m\u001b[1;33m\u001b[0m\u001b[0m\n\u001b[0m",
      "\u001b[1;32mC:\\ProgramData\\Anaconda3\\lib\\site-packages\\sklearn\\tree\\_classes.py\u001b[0m in \u001b[0;36mpredict\u001b[1;34m(self, X, check_input)\u001b[0m\n\u001b[0;32m    425\u001b[0m         \"\"\"\n\u001b[0;32m    426\u001b[0m         \u001b[0mcheck_is_fitted\u001b[0m\u001b[1;33m(\u001b[0m\u001b[0mself\u001b[0m\u001b[1;33m)\u001b[0m\u001b[1;33m\u001b[0m\u001b[1;33m\u001b[0m\u001b[0m\n\u001b[1;32m--> 427\u001b[1;33m         \u001b[0mX\u001b[0m \u001b[1;33m=\u001b[0m \u001b[0mself\u001b[0m\u001b[1;33m.\u001b[0m\u001b[0m_validate_X_predict\u001b[0m\u001b[1;33m(\u001b[0m\u001b[0mX\u001b[0m\u001b[1;33m,\u001b[0m \u001b[0mcheck_input\u001b[0m\u001b[1;33m)\u001b[0m\u001b[1;33m\u001b[0m\u001b[1;33m\u001b[0m\u001b[0m\n\u001b[0m\u001b[0;32m    428\u001b[0m         \u001b[0mproba\u001b[0m \u001b[1;33m=\u001b[0m \u001b[0mself\u001b[0m\u001b[1;33m.\u001b[0m\u001b[0mtree_\u001b[0m\u001b[1;33m.\u001b[0m\u001b[0mpredict\u001b[0m\u001b[1;33m(\u001b[0m\u001b[0mX\u001b[0m\u001b[1;33m)\u001b[0m\u001b[1;33m\u001b[0m\u001b[1;33m\u001b[0m\u001b[0m\n\u001b[0;32m    429\u001b[0m         \u001b[0mn_samples\u001b[0m \u001b[1;33m=\u001b[0m \u001b[0mX\u001b[0m\u001b[1;33m.\u001b[0m\u001b[0mshape\u001b[0m\u001b[1;33m[\u001b[0m\u001b[1;36m0\u001b[0m\u001b[1;33m]\u001b[0m\u001b[1;33m\u001b[0m\u001b[1;33m\u001b[0m\u001b[0m\n",
      "\u001b[1;32mC:\\ProgramData\\Anaconda3\\lib\\site-packages\\sklearn\\tree\\_classes.py\u001b[0m in \u001b[0;36m_validate_X_predict\u001b[1;34m(self, X, check_input)\u001b[0m\n\u001b[0;32m    397\u001b[0m                              \u001b[1;34m\"match the input. Model n_features is %s and \"\u001b[0m\u001b[1;33m\u001b[0m\u001b[1;33m\u001b[0m\u001b[0m\n\u001b[0;32m    398\u001b[0m                              \u001b[1;34m\"input n_features is %s \"\u001b[0m\u001b[1;33m\u001b[0m\u001b[1;33m\u001b[0m\u001b[0m\n\u001b[1;32m--> 399\u001b[1;33m                              % (self.n_features_, n_features))\n\u001b[0m\u001b[0;32m    400\u001b[0m \u001b[1;33m\u001b[0m\u001b[0m\n\u001b[0;32m    401\u001b[0m         \u001b[1;32mreturn\u001b[0m \u001b[0mX\u001b[0m\u001b[1;33m\u001b[0m\u001b[1;33m\u001b[0m\u001b[0m\n",
      "\u001b[1;31mValueError\u001b[0m: Number of features of the model must match the input. Model n_features is 4 and input n_features is 30 "
     ]
    }
   ],
   "source": [
    "predictions = clf.predict(test)"
   ]
  },
  {
   "cell_type": "code",
   "execution_count": 73,
   "metadata": {},
   "outputs": [],
   "source": []
  },
  {
   "cell_type": "code",
   "execution_count": null,
   "metadata": {},
   "outputs": [],
   "source": []
  }
 ],
 "metadata": {
  "kernelspec": {
   "display_name": "Python 3",
   "language": "python",
   "name": "python3"
  },
  "language_info": {
   "codemirror_mode": {
    "name": "ipython",
    "version": 3
   },
   "file_extension": ".py",
   "mimetype": "text/x-python",
   "name": "python",
   "nbconvert_exporter": "python",
   "pygments_lexer": "ipython3",
   "version": "3.7.4"
  }
 },
 "nbformat": 4,
 "nbformat_minor": 2
}
